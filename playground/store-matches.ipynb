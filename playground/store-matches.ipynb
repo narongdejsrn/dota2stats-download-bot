{
 "cells": [
  {
   "cell_type": "markdown",
   "metadata": {},
   "source": [
    "#### pip dependencies\n",
    "- pymongo\n",
    "\n",
    "#### other dependencies\n",
    "- https://github.com/veryhappythings/dotamatch (modified version)"
   ]
  },
  {
   "cell_type": "markdown",
   "metadata": {},
   "source": [
    "## Get latest matches from steam API"
   ]
  },
  {
   "cell_type": "code",
   "execution_count": 1,
   "metadata": {
    "collapsed": false
   },
   "outputs": [],
   "source": [
    "import pprint\n",
    "import json, jsonpickle\n",
    "from dotamatch import get_key\n",
    "from dotamatch.history import MatchHistoryBySequenceNum\n",
    "from dotamatch.players import PlayerSummaries\n",
    "from dotamatch.heroes import Heroes\n",
    "\n",
    "key = get_key()\n",
    "history = MatchHistoryBySequenceNum(key)"
   ]
  },
  {
   "cell_type": "code",
   "execution_count": 2,
   "metadata": {
    "collapsed": false
   },
   "outputs": [],
   "source": [
    "#1100000000 come from bruce forcing match_seq_num in api\n",
    "for match in history.matches(start_at_match_seq_num = 1100000000):\n",
    "    latest = match"
   ]
  },
  {
   "cell_type": "code",
   "execution_count": 63,
   "metadata": {
    "collapsed": false
   },
   "outputs": [
    {
     "data": {
      "text/plain": [
       "1100000202"
      ]
     },
     "execution_count": 63,
     "metadata": {},
     "output_type": "execute_result"
    }
   ],
   "source": [
    "latest.match_seq_num\n",
    "#data = json.loads(latest)"
   ]
  },
  {
   "cell_type": "markdown",
   "metadata": {},
   "source": [
    "## Connect to MongoDB"
   ]
  },
  {
   "cell_type": "code",
   "execution_count": 3,
   "metadata": {
    "collapsed": true
   },
   "outputs": [],
   "source": [
    "from pymongo import MongoClient, ASCENDING\n",
    "client = MongoClient('localhost', 3001)"
   ]
  },
  {
   "cell_type": "code",
   "execution_count": 4,
   "metadata": {
    "collapsed": false
   },
   "outputs": [],
   "source": [
    "db = client.meteor\n",
    "matches = db.matches"
   ]
  },
  {
   "cell_type": "code",
   "execution_count": 21,
   "metadata": {
    "collapsed": false
   },
   "outputs": [
    {
     "data": {
      "text/plain": [
       "u'match_id_1'"
      ]
     },
     "execution_count": 21,
     "metadata": {},
     "output_type": "execute_result"
    }
   ],
   "source": [
    "matches.create_index([(\"match_id\", ASCENDING)], unique=True)"
   ]
  },
  {
   "cell_type": "code",
   "execution_count": 16,
   "metadata": {
    "collapsed": false
   },
   "outputs": [],
   "source": [
    "latest.herolist = []\n",
    "for player in latest.players:\n",
    "    latest.herolist.append(player[\"hero_id\"])"
   ]
  },
  {
   "cell_type": "code",
   "execution_count": 17,
   "metadata": {
    "collapsed": false
   },
   "outputs": [],
   "source": [
    "ldict = latest.__dict__"
   ]
  },
  {
   "cell_type": "code",
   "execution_count": 18,
   "metadata": {
    "collapsed": false
   },
   "outputs": [],
   "source": [
    "ldict.pop(\"parent\", None)"
   ]
  },
  {
   "cell_type": "code",
   "execution_count": 19,
   "metadata": {
    "collapsed": false
   },
   "outputs": [
    {
     "data": {
      "text/plain": [
       "{'barracks_status_dire': 0,\n",
       " 'barracks_status_radiant': 63,\n",
       " 'cluster': 192,\n",
       " 'duration': 2772,\n",
       " 'engine': 0,\n",
       " 'first_blood_time': 194,\n",
       " 'flags': 0,\n",
       " 'game_mode': 1,\n",
       " 'herolist': [96, 19, 6, 7, 51, 11, 33, 71, 23, 68],\n",
       " 'human_players': 10,\n",
       " 'leagueid': 0,\n",
       " 'lobby_type': 0,\n",
       " 'match_id': 1226990179,\n",
       " 'match_seq_num': 1100000202,\n",
       " 'negative_votes': 0,\n",
       " 'players': [{u'account_id': 108090943,\n",
       "   u'assists': 13,\n",
       "   u'deaths': 8,\n",
       "   u'denies': 7,\n",
       "   u'gold_per_min': 393,\n",
       "   u'hero_id': 96,\n",
       "   u'item_0': 1,\n",
       "   u'item_1': 127,\n",
       "   u'item_2': 90,\n",
       "   u'item_3': 214,\n",
       "   u'item_4': 114,\n",
       "   u'item_5': 0,\n",
       "   u'kills': 8,\n",
       "   u'last_hits': 108,\n",
       "   u'leaver_status': 0,\n",
       "   u'level': 20,\n",
       "   u'player_slot': 0,\n",
       "   u'xp_per_min': 487},\n",
       "  {u'account_id': 4294967295,\n",
       "   u'assists': 13,\n",
       "   u'deaths': 2,\n",
       "   u'denies': 5,\n",
       "   u'gold_per_min': 715,\n",
       "   u'hero_id': 19,\n",
       "   u'item_0': 48,\n",
       "   u'item_1': 147,\n",
       "   u'item_2': 112,\n",
       "   u'item_3': 116,\n",
       "   u'item_4': 108,\n",
       "   u'item_5': 172,\n",
       "   u'kills': 11,\n",
       "   u'last_hits': 367,\n",
       "   u'leaver_status': 0,\n",
       "   u'level': 25,\n",
       "   u'player_slot': 1,\n",
       "   u'xp_per_min': 701},\n",
       "  {u'account_id': 131488710,\n",
       "   u'assists': 9,\n",
       "   u'deaths': 12,\n",
       "   u'denies': 1,\n",
       "   u'gold_per_min': 363,\n",
       "   u'hero_id': 6,\n",
       "   u'item_0': 75,\n",
       "   u'item_1': 75,\n",
       "   u'item_2': 63,\n",
       "   u'item_3': 152,\n",
       "   u'item_4': 116,\n",
       "   u'item_5': 0,\n",
       "   u'kills': 7,\n",
       "   u'last_hits': 90,\n",
       "   u'leaver_status': 0,\n",
       "   u'level': 18,\n",
       "   u'player_slot': 2,\n",
       "   u'xp_per_min': 404},\n",
       "  {u'account_id': 4294967295,\n",
       "   u'assists': 12,\n",
       "   u'deaths': 8,\n",
       "   u'denies': 1,\n",
       "   u'gold_per_min': 293,\n",
       "   u'hero_id': 7,\n",
       "   u'item_0': 1,\n",
       "   u'item_1': 178,\n",
       "   u'item_2': 108,\n",
       "   u'item_3': 46,\n",
       "   u'item_4': 180,\n",
       "   u'item_5': 0,\n",
       "   u'kills': 1,\n",
       "   u'last_hits': 54,\n",
       "   u'leaver_status': 0,\n",
       "   u'level': 17,\n",
       "   u'player_slot': 3,\n",
       "   u'xp_per_min': 352},\n",
       "  {u'account_id': 4294967295,\n",
       "   u'assists': 14,\n",
       "   u'deaths': 10,\n",
       "   u'denies': 1,\n",
       "   u'gold_per_min': 348,\n",
       "   u'hero_id': 51,\n",
       "   u'item_0': 127,\n",
       "   u'item_1': 50,\n",
       "   u'item_2': 242,\n",
       "   u'item_3': 108,\n",
       "   u'item_4': 0,\n",
       "   u'item_5': 0,\n",
       "   u'kills': 7,\n",
       "   u'last_hits': 84,\n",
       "   u'leaver_status': 0,\n",
       "   u'level': 18,\n",
       "   u'player_slot': 4,\n",
       "   u'xp_per_min': 406},\n",
       "  {u'account_id': 4294967295,\n",
       "   u'assists': 10,\n",
       "   u'deaths': 5,\n",
       "   u'denies': 29,\n",
       "   u'gold_per_min': 558,\n",
       "   u'hero_id': 11,\n",
       "   u'item_0': 1,\n",
       "   u'item_1': 147,\n",
       "   u'item_2': 116,\n",
       "   u'item_3': 139,\n",
       "   u'item_4': 63,\n",
       "   u'item_5': 65,\n",
       "   u'kills': 7,\n",
       "   u'last_hits': 330,\n",
       "   u'leaver_status': 0,\n",
       "   u'level': 23,\n",
       "   u'player_slot': 128,\n",
       "   u'xp_per_min': 615},\n",
       "  {u'account_id': 149976849,\n",
       "   u'assists': 11,\n",
       "   u'deaths': 3,\n",
       "   u'denies': 1,\n",
       "   u'gold_per_min': 291,\n",
       "   u'hero_id': 33,\n",
       "   u'item_0': 29,\n",
       "   u'item_1': 79,\n",
       "   u'item_2': 152,\n",
       "   u'item_3': 116,\n",
       "   u'item_4': 1,\n",
       "   u'item_5': 178,\n",
       "   u'kills': 4,\n",
       "   u'last_hits': 117,\n",
       "   u'leaver_status': 0,\n",
       "   u'level': 19,\n",
       "   u'player_slot': 129,\n",
       "   u'xp_per_min': 426},\n",
       "  {u'account_id': 4294967295,\n",
       "   u'assists': 18,\n",
       "   u'deaths': 9,\n",
       "   u'denies': 8,\n",
       "   u'gold_per_min': 285,\n",
       "   u'hero_id': 71,\n",
       "   u'item_0': 92,\n",
       "   u'item_1': 40,\n",
       "   u'item_2': 63,\n",
       "   u'item_3': 162,\n",
       "   u'item_4': 116,\n",
       "   u'item_5': 46,\n",
       "   u'kills': 10,\n",
       "   u'last_hits': 65,\n",
       "   u'leaver_status': 0,\n",
       "   u'level': 18,\n",
       "   u'player_slot': 130,\n",
       "   u'xp_per_min': 378},\n",
       "  {u'account_id': 86347228,\n",
       "   u'assists': 12,\n",
       "   u'deaths': 10,\n",
       "   u'denies': 1,\n",
       "   u'gold_per_min': 425,\n",
       "   u'hero_id': 23,\n",
       "   u'item_0': 50,\n",
       "   u'item_1': 141,\n",
       "   u'item_2': 141,\n",
       "   u'item_3': 3,\n",
       "   u'item_4': 2,\n",
       "   u'item_5': 0,\n",
       "   u'kills': 11,\n",
       "   u'last_hits': 198,\n",
       "   u'leaver_status': 0,\n",
       "   u'level': 23,\n",
       "   u'player_slot': 131,\n",
       "   u'xp_per_min': 642},\n",
       "  {u'account_id': 73678632,\n",
       "   u'assists': 12,\n",
       "   u'deaths': 10,\n",
       "   u'denies': 5,\n",
       "   u'gold_per_min': 209,\n",
       "   u'hero_id': 68,\n",
       "   u'item_0': 60,\n",
       "   u'item_1': 36,\n",
       "   u'item_2': 46,\n",
       "   u'item_3': 23,\n",
       "   u'item_4': 21,\n",
       "   u'item_5': 180,\n",
       "   u'kills': 6,\n",
       "   u'last_hits': 26,\n",
       "   u'leaver_status': 0,\n",
       "   u'level': 14,\n",
       "   u'player_slot': 132,\n",
       "   u'xp_per_min': 245}],\n",
       " 'positive_votes': 0,\n",
       " 'radiant_win': True,\n",
       " 'start_time': datetime.datetime(2015, 2, 10, 14, 53, 31),\n",
       " 'tower_status_dire': 0,\n",
       " 'tower_status_radiant': 1972}"
      ]
     },
     "execution_count": 19,
     "metadata": {},
     "output_type": "execute_result"
    }
   ],
   "source": [
    "ldict"
   ]
  },
  {
   "cell_type": "code",
   "execution_count": 20,
   "metadata": {
    "collapsed": false
   },
   "outputs": [
    {
     "data": {
      "text/plain": [
       "<pymongo.results.InsertOneResult at 0x1063b0870>"
      ]
     },
     "execution_count": 20,
     "metadata": {},
     "output_type": "execute_result"
    }
   ],
   "source": [
    "matches.insert_one(ldict)"
   ]
  },
  {
   "cell_type": "markdown",
   "metadata": {
    "collapsed": true
   },
   "source": [
    "   ## Create / Update Sequence Data"
   ]
  },
  {
   "cell_type": "code",
   "execution_count": 40,
   "metadata": {
    "collapsed": false
   },
   "outputs": [],
   "source": [
    "preferences = db.preferences"
   ]
  },
  {
   "cell_type": "code",
   "execution_count": 46,
   "metadata": {
    "collapsed": false
   },
   "outputs": [
    {
     "data": {
      "text/plain": [
       "<pymongo.results.InsertOneResult at 0x103c87af0>"
      ]
     },
     "execution_count": 46,
     "metadata": {},
     "output_type": "execute_result"
    }
   ],
   "source": [
    "# only run this first time\n",
    "preferences.insert_one({'type': \"settings\", 'match_sequence_num': 1100000000})"
   ]
  },
  {
   "cell_type": "code",
   "execution_count": 51,
   "metadata": {
    "collapsed": false
   },
   "outputs": [
    {
     "data": {
      "text/plain": [
       "123"
      ]
     },
     "execution_count": 51,
     "metadata": {},
     "output_type": "execute_result"
    }
   ],
   "source": [
    "preferences.find_one()[\"match_sequence_num\"]"
   ]
  },
  {
   "cell_type": "code",
   "execution_count": 52,
   "metadata": {
    "collapsed": false
   },
   "outputs": [
    {
     "data": {
      "text/plain": [
       "<pymongo.results.UpdateResult at 0x103c87d70>"
      ]
     },
     "execution_count": 52,
     "metadata": {},
     "output_type": "execute_result"
    }
   ],
   "source": [
    "preferences.update_one({\"type\": \"settings\"}, {\"$set\": {\"match_sequence_num\": 1100000000}})"
   ]
  },
  {
   "cell_type": "code",
   "execution_count": null,
   "metadata": {
    "collapsed": true
   },
   "outputs": [],
   "source": []
  }
 ],
 "metadata": {
  "kernelspec": {
   "display_name": "Python 2",
   "language": "python",
   "name": "python2"
  },
  "language_info": {
   "codemirror_mode": {
    "name": "ipython",
    "version": 2
   },
   "file_extension": ".py",
   "mimetype": "text/x-python",
   "name": "python",
   "nbconvert_exporter": "python",
   "pygments_lexer": "ipython2",
   "version": "2.7.10"
  }
 },
 "nbformat": 4,
 "nbformat_minor": 0
}
